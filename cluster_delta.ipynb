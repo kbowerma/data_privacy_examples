{
 "cells": [
  {
   "cell_type": "code",
   "execution_count": 49,
   "metadata": {},
   "outputs": [
    {
     "name": "stdout",
     "output_type": "stream",
     "text": [
      "mglearn version: 0.1.6\n",
      "CPU times: user 8.66 ms, sys: 2.64 ms, total: 11.3 ms\n",
      "Wall time: 15.4 ms\n"
     ]
    }
   ],
   "source": [
    "import pandas as pd\n",
    "\n",
    "import matplotlib.pyplot as plt\n",
    "from matplotlib.pyplot import figure\n",
    "\n",
    "#print(\"matplotlib version: {}\".format(matplotlib.__version__))\n",
    "import mglearn\n",
    "print(\"mglearn version: {}\".format(mglearn.__version__))\n",
    "\n",
    "path = './d10k.csv'\n",
    "\n",
    "%time df = pd.read_csv(path)"
   ]
  },
  {
   "cell_type": "code",
   "execution_count": 50,
   "metadata": {},
   "outputs": [],
   "source": [
    "#remove the children (9999999) that dont make any money, and the  milleinals who dont work (0\n",
    "\n",
    "df2 = df[(df.INCTOT < 500000) & (df.INCTOT != 0) & (df.AGE < 65) & (df.AGE > 18) & (df.CITY != 0)]"
   ]
  },
  {
   "cell_type": "code",
   "execution_count": 51,
   "metadata": {
    "scrolled": true
   },
   "outputs": [
    {
     "data": {
      "text/html": [
       "<div>\n",
       "<style scoped>\n",
       "    .dataframe tbody tr th:only-of-type {\n",
       "        vertical-align: middle;\n",
       "    }\n",
       "\n",
       "    .dataframe tbody tr th {\n",
       "        vertical-align: top;\n",
       "    }\n",
       "\n",
       "    .dataframe thead th {\n",
       "        text-align: right;\n",
       "    }\n",
       "</style>\n",
       "<table border=\"1\" class=\"dataframe\">\n",
       "  <thead>\n",
       "    <tr style=\"text-align: right;\">\n",
       "      <th></th>\n",
       "      <th>STATEFIP</th>\n",
       "      <th>CITY</th>\n",
       "      <th>SEX</th>\n",
       "      <th>AGE</th>\n",
       "      <th>INCTOT</th>\n",
       "    </tr>\n",
       "  </thead>\n",
       "  <tbody>\n",
       "    <tr>\n",
       "      <th>10</th>\n",
       "      <td>4</td>\n",
       "      <td>5350</td>\n",
       "      <td>1</td>\n",
       "      <td>52</td>\n",
       "      <td>85000</td>\n",
       "    </tr>\n",
       "    <tr>\n",
       "      <th>34</th>\n",
       "      <td>11</td>\n",
       "      <td>7230</td>\n",
       "      <td>1</td>\n",
       "      <td>55</td>\n",
       "      <td>186000</td>\n",
       "    </tr>\n",
       "    <tr>\n",
       "      <th>46</th>\n",
       "      <td>6</td>\n",
       "      <td>2490</td>\n",
       "      <td>2</td>\n",
       "      <td>58</td>\n",
       "      <td>70000</td>\n",
       "    </tr>\n",
       "    <tr>\n",
       "      <th>52</th>\n",
       "      <td>25</td>\n",
       "      <td>810</td>\n",
       "      <td>2</td>\n",
       "      <td>61</td>\n",
       "      <td>8400</td>\n",
       "    </tr>\n",
       "    <tr>\n",
       "      <th>71</th>\n",
       "      <td>36</td>\n",
       "      <td>4610</td>\n",
       "      <td>2</td>\n",
       "      <td>48</td>\n",
       "      <td>50000</td>\n",
       "    </tr>\n",
       "    <tr>\n",
       "      <th>94</th>\n",
       "      <td>24</td>\n",
       "      <td>530</td>\n",
       "      <td>2</td>\n",
       "      <td>46</td>\n",
       "      <td>44400</td>\n",
       "    </tr>\n",
       "    <tr>\n",
       "      <th>116</th>\n",
       "      <td>36</td>\n",
       "      <td>4610</td>\n",
       "      <td>2</td>\n",
       "      <td>30</td>\n",
       "      <td>15000</td>\n",
       "    </tr>\n",
       "    <tr>\n",
       "      <th>146</th>\n",
       "      <td>6</td>\n",
       "      <td>3730</td>\n",
       "      <td>1</td>\n",
       "      <td>27</td>\n",
       "      <td>54000</td>\n",
       "    </tr>\n",
       "    <tr>\n",
       "      <th>162</th>\n",
       "      <td>36</td>\n",
       "      <td>4610</td>\n",
       "      <td>1</td>\n",
       "      <td>22</td>\n",
       "      <td>40000</td>\n",
       "    </tr>\n",
       "    <tr>\n",
       "      <th>176</th>\n",
       "      <td>36</td>\n",
       "      <td>4610</td>\n",
       "      <td>1</td>\n",
       "      <td>56</td>\n",
       "      <td>46200</td>\n",
       "    </tr>\n",
       "    <tr>\n",
       "      <th>188</th>\n",
       "      <td>36</td>\n",
       "      <td>4610</td>\n",
       "      <td>1</td>\n",
       "      <td>49</td>\n",
       "      <td>220000</td>\n",
       "    </tr>\n",
       "    <tr>\n",
       "      <th>201</th>\n",
       "      <td>17</td>\n",
       "      <td>1190</td>\n",
       "      <td>1</td>\n",
       "      <td>32</td>\n",
       "      <td>60000</td>\n",
       "    </tr>\n",
       "    <tr>\n",
       "      <th>207</th>\n",
       "      <td>4</td>\n",
       "      <td>4050</td>\n",
       "      <td>2</td>\n",
       "      <td>42</td>\n",
       "      <td>36000</td>\n",
       "    </tr>\n",
       "    <tr>\n",
       "      <th>229</th>\n",
       "      <td>19</td>\n",
       "      <td>1730</td>\n",
       "      <td>1</td>\n",
       "      <td>24</td>\n",
       "      <td>25600</td>\n",
       "    </tr>\n",
       "    <tr>\n",
       "      <th>235</th>\n",
       "      <td>12</td>\n",
       "      <td>3110</td>\n",
       "      <td>1</td>\n",
       "      <td>53</td>\n",
       "      <td>21000</td>\n",
       "    </tr>\n",
       "    <tr>\n",
       "      <th>239</th>\n",
       "      <td>47</td>\n",
       "      <td>4410</td>\n",
       "      <td>2</td>\n",
       "      <td>58</td>\n",
       "      <td>23400</td>\n",
       "    </tr>\n",
       "    <tr>\n",
       "      <th>252</th>\n",
       "      <td>47</td>\n",
       "      <td>4410</td>\n",
       "      <td>1</td>\n",
       "      <td>60</td>\n",
       "      <td>65000</td>\n",
       "    </tr>\n",
       "    <tr>\n",
       "      <th>256</th>\n",
       "      <td>29</td>\n",
       "      <td>6090</td>\n",
       "      <td>1</td>\n",
       "      <td>30</td>\n",
       "      <td>41600</td>\n",
       "    </tr>\n",
       "    <tr>\n",
       "      <th>257</th>\n",
       "      <td>6</td>\n",
       "      <td>6190</td>\n",
       "      <td>1</td>\n",
       "      <td>48</td>\n",
       "      <td>37000</td>\n",
       "    </tr>\n",
       "    <tr>\n",
       "      <th>269</th>\n",
       "      <td>36</td>\n",
       "      <td>4610</td>\n",
       "      <td>2</td>\n",
       "      <td>53</td>\n",
       "      <td>72000</td>\n",
       "    </tr>\n",
       "    <tr>\n",
       "      <th>271</th>\n",
       "      <td>6</td>\n",
       "      <td>3730</td>\n",
       "      <td>1</td>\n",
       "      <td>43</td>\n",
       "      <td>30000</td>\n",
       "    </tr>\n",
       "    <tr>\n",
       "      <th>276</th>\n",
       "      <td>17</td>\n",
       "      <td>1190</td>\n",
       "      <td>1</td>\n",
       "      <td>25</td>\n",
       "      <td>35000</td>\n",
       "    </tr>\n",
       "    <tr>\n",
       "      <th>282</th>\n",
       "      <td>12</td>\n",
       "      <td>3110</td>\n",
       "      <td>1</td>\n",
       "      <td>58</td>\n",
       "      <td>12000</td>\n",
       "    </tr>\n",
       "    <tr>\n",
       "      <th>289</th>\n",
       "      <td>6</td>\n",
       "      <td>6330</td>\n",
       "      <td>1</td>\n",
       "      <td>32</td>\n",
       "      <td>20000</td>\n",
       "    </tr>\n",
       "    <tr>\n",
       "      <th>300</th>\n",
       "      <td>8</td>\n",
       "      <td>1710</td>\n",
       "      <td>2</td>\n",
       "      <td>49</td>\n",
       "      <td>150000</td>\n",
       "    </tr>\n",
       "    <tr>\n",
       "      <th>313</th>\n",
       "      <td>18</td>\n",
       "      <td>2990</td>\n",
       "      <td>2</td>\n",
       "      <td>58</td>\n",
       "      <td>25404</td>\n",
       "    </tr>\n",
       "    <tr>\n",
       "      <th>338</th>\n",
       "      <td>39</td>\n",
       "      <td>6970</td>\n",
       "      <td>2</td>\n",
       "      <td>55</td>\n",
       "      <td>15600</td>\n",
       "    </tr>\n",
       "    <tr>\n",
       "      <th>350</th>\n",
       "      <td>8</td>\n",
       "      <td>1710</td>\n",
       "      <td>1</td>\n",
       "      <td>36</td>\n",
       "      <td>95000</td>\n",
       "    </tr>\n",
       "    <tr>\n",
       "      <th>354</th>\n",
       "      <td>25</td>\n",
       "      <td>810</td>\n",
       "      <td>1</td>\n",
       "      <td>21</td>\n",
       "      <td>19000</td>\n",
       "    </tr>\n",
       "    <tr>\n",
       "      <th>360</th>\n",
       "      <td>36</td>\n",
       "      <td>4610</td>\n",
       "      <td>2</td>\n",
       "      <td>29</td>\n",
       "      <td>30000</td>\n",
       "    </tr>\n",
       "    <tr>\n",
       "      <th>...</th>\n",
       "      <td>...</td>\n",
       "      <td>...</td>\n",
       "      <td>...</td>\n",
       "      <td>...</td>\n",
       "      <td>...</td>\n",
       "    </tr>\n",
       "    <tr>\n",
       "      <th>9528</th>\n",
       "      <td>42</td>\n",
       "      <td>5330</td>\n",
       "      <td>1</td>\n",
       "      <td>58</td>\n",
       "      <td>90000</td>\n",
       "    </tr>\n",
       "    <tr>\n",
       "      <th>9534</th>\n",
       "      <td>6</td>\n",
       "      <td>3730</td>\n",
       "      <td>2</td>\n",
       "      <td>22</td>\n",
       "      <td>7100</td>\n",
       "    </tr>\n",
       "    <tr>\n",
       "      <th>9538</th>\n",
       "      <td>8</td>\n",
       "      <td>1710</td>\n",
       "      <td>1</td>\n",
       "      <td>43</td>\n",
       "      <td>25000</td>\n",
       "    </tr>\n",
       "    <tr>\n",
       "      <th>9542</th>\n",
       "      <td>17</td>\n",
       "      <td>1190</td>\n",
       "      <td>2</td>\n",
       "      <td>56</td>\n",
       "      <td>25000</td>\n",
       "    </tr>\n",
       "    <tr>\n",
       "      <th>9558</th>\n",
       "      <td>4</td>\n",
       "      <td>5350</td>\n",
       "      <td>1</td>\n",
       "      <td>32</td>\n",
       "      <td>41000</td>\n",
       "    </tr>\n",
       "    <tr>\n",
       "      <th>9616</th>\n",
       "      <td>39</td>\n",
       "      <td>10</td>\n",
       "      <td>1</td>\n",
       "      <td>29</td>\n",
       "      <td>1700</td>\n",
       "    </tr>\n",
       "    <tr>\n",
       "      <th>9622</th>\n",
       "      <td>25</td>\n",
       "      <td>810</td>\n",
       "      <td>2</td>\n",
       "      <td>21</td>\n",
       "      <td>4300</td>\n",
       "    </tr>\n",
       "    <tr>\n",
       "      <th>9632</th>\n",
       "      <td>25</td>\n",
       "      <td>930</td>\n",
       "      <td>1</td>\n",
       "      <td>21</td>\n",
       "      <td>9000</td>\n",
       "    </tr>\n",
       "    <tr>\n",
       "      <th>9636</th>\n",
       "      <td>6</td>\n",
       "      <td>3730</td>\n",
       "      <td>1</td>\n",
       "      <td>29</td>\n",
       "      <td>33000</td>\n",
       "    </tr>\n",
       "    <tr>\n",
       "      <th>9639</th>\n",
       "      <td>12</td>\n",
       "      <td>3110</td>\n",
       "      <td>2</td>\n",
       "      <td>41</td>\n",
       "      <td>110000</td>\n",
       "    </tr>\n",
       "    <tr>\n",
       "      <th>9688</th>\n",
       "      <td>12</td>\n",
       "      <td>4110</td>\n",
       "      <td>1</td>\n",
       "      <td>39</td>\n",
       "      <td>30000</td>\n",
       "    </tr>\n",
       "    <tr>\n",
       "      <th>9710</th>\n",
       "      <td>27</td>\n",
       "      <td>6110</td>\n",
       "      <td>1</td>\n",
       "      <td>28</td>\n",
       "      <td>34000</td>\n",
       "    </tr>\n",
       "    <tr>\n",
       "      <th>9733</th>\n",
       "      <td>17</td>\n",
       "      <td>1190</td>\n",
       "      <td>1</td>\n",
       "      <td>45</td>\n",
       "      <td>18000</td>\n",
       "    </tr>\n",
       "    <tr>\n",
       "      <th>9743</th>\n",
       "      <td>6</td>\n",
       "      <td>3730</td>\n",
       "      <td>2</td>\n",
       "      <td>58</td>\n",
       "      <td>20000</td>\n",
       "    </tr>\n",
       "    <tr>\n",
       "      <th>9796</th>\n",
       "      <td>22</td>\n",
       "      <td>4570</td>\n",
       "      <td>1</td>\n",
       "      <td>47</td>\n",
       "      <td>7500</td>\n",
       "    </tr>\n",
       "    <tr>\n",
       "      <th>9832</th>\n",
       "      <td>6</td>\n",
       "      <td>6290</td>\n",
       "      <td>2</td>\n",
       "      <td>25</td>\n",
       "      <td>125000</td>\n",
       "    </tr>\n",
       "    <tr>\n",
       "      <th>9836</th>\n",
       "      <td>12</td>\n",
       "      <td>3110</td>\n",
       "      <td>2</td>\n",
       "      <td>36</td>\n",
       "      <td>22000</td>\n",
       "    </tr>\n",
       "    <tr>\n",
       "      <th>9838</th>\n",
       "      <td>36</td>\n",
       "      <td>4610</td>\n",
       "      <td>1</td>\n",
       "      <td>30</td>\n",
       "      <td>15000</td>\n",
       "    </tr>\n",
       "    <tr>\n",
       "      <th>9848</th>\n",
       "      <td>51</td>\n",
       "      <td>5870</td>\n",
       "      <td>1</td>\n",
       "      <td>60</td>\n",
       "      <td>70000</td>\n",
       "    </tr>\n",
       "    <tr>\n",
       "      <th>9853</th>\n",
       "      <td>36</td>\n",
       "      <td>6850</td>\n",
       "      <td>2</td>\n",
       "      <td>38</td>\n",
       "      <td>25000</td>\n",
       "    </tr>\n",
       "    <tr>\n",
       "      <th>9871</th>\n",
       "      <td>4</td>\n",
       "      <td>5350</td>\n",
       "      <td>1</td>\n",
       "      <td>50</td>\n",
       "      <td>1600</td>\n",
       "    </tr>\n",
       "    <tr>\n",
       "      <th>9880</th>\n",
       "      <td>6</td>\n",
       "      <td>6810</td>\n",
       "      <td>2</td>\n",
       "      <td>29</td>\n",
       "      <td>70000</td>\n",
       "    </tr>\n",
       "    <tr>\n",
       "      <th>9902</th>\n",
       "      <td>53</td>\n",
       "      <td>6430</td>\n",
       "      <td>1</td>\n",
       "      <td>43</td>\n",
       "      <td>100000</td>\n",
       "    </tr>\n",
       "    <tr>\n",
       "      <th>9905</th>\n",
       "      <td>6</td>\n",
       "      <td>3730</td>\n",
       "      <td>1</td>\n",
       "      <td>20</td>\n",
       "      <td>7000</td>\n",
       "    </tr>\n",
       "    <tr>\n",
       "      <th>9920</th>\n",
       "      <td>48</td>\n",
       "      <td>3560</td>\n",
       "      <td>1</td>\n",
       "      <td>41</td>\n",
       "      <td>50000</td>\n",
       "    </tr>\n",
       "    <tr>\n",
       "      <th>9942</th>\n",
       "      <td>6</td>\n",
       "      <td>4930</td>\n",
       "      <td>1</td>\n",
       "      <td>59</td>\n",
       "      <td>48000</td>\n",
       "    </tr>\n",
       "    <tr>\n",
       "      <th>9959</th>\n",
       "      <td>8</td>\n",
       "      <td>1710</td>\n",
       "      <td>2</td>\n",
       "      <td>25</td>\n",
       "      <td>32000</td>\n",
       "    </tr>\n",
       "    <tr>\n",
       "      <th>9972</th>\n",
       "      <td>49</td>\n",
       "      <td>5660</td>\n",
       "      <td>2</td>\n",
       "      <td>23</td>\n",
       "      <td>10500</td>\n",
       "    </tr>\n",
       "    <tr>\n",
       "      <th>9975</th>\n",
       "      <td>36</td>\n",
       "      <td>4610</td>\n",
       "      <td>1</td>\n",
       "      <td>39</td>\n",
       "      <td>43600</td>\n",
       "    </tr>\n",
       "    <tr>\n",
       "      <th>9990</th>\n",
       "      <td>46</td>\n",
       "      <td>6530</td>\n",
       "      <td>1</td>\n",
       "      <td>35</td>\n",
       "      <td>55000</td>\n",
       "    </tr>\n",
       "  </tbody>\n",
       "</table>\n",
       "<p>693 rows × 5 columns</p>\n",
       "</div>"
      ],
      "text/plain": [
       "      STATEFIP  CITY  SEX  AGE  INCTOT\n",
       "10           4  5350    1   52   85000\n",
       "34          11  7230    1   55  186000\n",
       "46           6  2490    2   58   70000\n",
       "52          25   810    2   61    8400\n",
       "71          36  4610    2   48   50000\n",
       "94          24   530    2   46   44400\n",
       "116         36  4610    2   30   15000\n",
       "146          6  3730    1   27   54000\n",
       "162         36  4610    1   22   40000\n",
       "176         36  4610    1   56   46200\n",
       "188         36  4610    1   49  220000\n",
       "201         17  1190    1   32   60000\n",
       "207          4  4050    2   42   36000\n",
       "229         19  1730    1   24   25600\n",
       "235         12  3110    1   53   21000\n",
       "239         47  4410    2   58   23400\n",
       "252         47  4410    1   60   65000\n",
       "256         29  6090    1   30   41600\n",
       "257          6  6190    1   48   37000\n",
       "269         36  4610    2   53   72000\n",
       "271          6  3730    1   43   30000\n",
       "276         17  1190    1   25   35000\n",
       "282         12  3110    1   58   12000\n",
       "289          6  6330    1   32   20000\n",
       "300          8  1710    2   49  150000\n",
       "313         18  2990    2   58   25404\n",
       "338         39  6970    2   55   15600\n",
       "350          8  1710    1   36   95000\n",
       "354         25   810    1   21   19000\n",
       "360         36  4610    2   29   30000\n",
       "...        ...   ...  ...  ...     ...\n",
       "9528        42  5330    1   58   90000\n",
       "9534         6  3730    2   22    7100\n",
       "9538         8  1710    1   43   25000\n",
       "9542        17  1190    2   56   25000\n",
       "9558         4  5350    1   32   41000\n",
       "9616        39    10    1   29    1700\n",
       "9622        25   810    2   21    4300\n",
       "9632        25   930    1   21    9000\n",
       "9636         6  3730    1   29   33000\n",
       "9639        12  3110    2   41  110000\n",
       "9688        12  4110    1   39   30000\n",
       "9710        27  6110    1   28   34000\n",
       "9733        17  1190    1   45   18000\n",
       "9743         6  3730    2   58   20000\n",
       "9796        22  4570    1   47    7500\n",
       "9832         6  6290    2   25  125000\n",
       "9836        12  3110    2   36   22000\n",
       "9838        36  4610    1   30   15000\n",
       "9848        51  5870    1   60   70000\n",
       "9853        36  6850    2   38   25000\n",
       "9871         4  5350    1   50    1600\n",
       "9880         6  6810    2   29   70000\n",
       "9902        53  6430    1   43  100000\n",
       "9905         6  3730    1   20    7000\n",
       "9920        48  3560    1   41   50000\n",
       "9942         6  4930    1   59   48000\n",
       "9959         8  1710    2   25   32000\n",
       "9972        49  5660    2   23   10500\n",
       "9975        36  4610    1   39   43600\n",
       "9990        46  6530    1   35   55000\n",
       "\n",
       "[693 rows x 5 columns]"
      ]
     },
     "execution_count": 51,
     "metadata": {},
     "output_type": "execute_result"
    }
   ],
   "source": [
    "df2  #show table\n"
   ]
  },
  {
   "cell_type": "code",
   "execution_count": 55,
   "metadata": {},
   "outputs": [
    {
     "data": {
      "text/plain": [
       "<matplotlib.collections.PathCollection at 0x1c0ff6d470>"
      ]
     },
     "execution_count": 55,
     "metadata": {},
     "output_type": "execute_result"
    },
    {
     "data": {
      "image/png": "[encoded data removed]",
      "text/plain": [
       "<Figure size 432x288 with 1 Axes>"
      ]
     },
     "metadata": {},
     "output_type": "display_data"
    }
   ],
   "source": [
    "#figure(num=None, figsize=(14, 10), dpi=80, facecolor='w', edgecolor='k')\n",
    "plt.scatter(df2.AGE, df2.INCTOT, s=1 )\n"
   ]
  },
  {
   "cell_type": "code",
   "execution_count": 21,
   "metadata": {
    "collapsed": true
   },
   "outputs": [
    {
     "data": {
      "image/png": "[encoded data removed]",
      "text/plain": [
       "<Figure size 720x576 with 9 Axes>"
      ]
     },
     "metadata": {},
     "output_type": "display_data"
    }
   ],
   "source": [
    "mglearn.plots.plot_kmeans_algorithm()"
   ]
  },
  {
   "cell_type": "code",
   "execution_count": 22,
   "metadata": {},
   "outputs": [
    {
     "data": {
      "image/png": "[encoded data removed]",
      "text/plain": [
       "<Figure size 432x288 with 1 Axes>"
      ]
     },
     "metadata": {},
     "output_type": "display_data"
    }
   ],
   "source": [
    "\n",
    "mglearn.plots.plot_kmeans_boundaries()"
   ]
  },
  {
   "cell_type": "code",
   "execution_count": 97,
   "metadata": {},
   "outputs": [
    {
     "data": {
      "text/plain": [
       "KMeans(algorithm='auto', copy_x=True, init='k-means++', max_iter=300,\n",
       "    n_clusters=3, n_init=10, n_jobs=1, precompute_distances='auto',\n",
       "    random_state=None, tol=0.0001, verbose=0)"
      ]
     },
     "execution_count": 97,
     "metadata": {},
     "output_type": "execute_result"
    }
   ],
   "source": [
    "from sklearn.datasets import make_blobs\n",
    "from sklearn.cluster import KMeans\n",
    "#generate sustjotc two dimesional data\n",
    "X,y =make_blobs(random_state=1)\n",
    "\n",
    "#X,y = df2.AGE, df2.INCTOT\n",
    "kmeans = KMeans(n_clusters=3)\n",
    "kmeans.fit(X)\n"
   ]
  },
  {
   "cell_type": "code",
   "execution_count": 106,
   "metadata": {},
   "outputs": [
    {
     "name": "stdout",
     "output_type": "stream",
     "text": [
      "cluser membership:\n",
      "[1 2 1 0 0 0 0 1 0 0 2 1 0 0 0 0 1 0 0 1 0 0 0 0 2 0 0 1 0 0 0 0 1 0 0 1 0\n",
      " 1 0 0 0 0 0 1 0 0 0 0 0 0 0 0 0 0 0 1 0 2 0 0 0 1 1 0 0 0 0 0 0 0 1 0 1 1\n",
      " 0 0 0 0 0 0 1 0 0 0 1 0 0 1 0 0 0 1 1 0 0 1 1 0 0 0 0 0 0 0 2 0 1 0 1 1 0\n",
      " 0 0 1 0 0 0 0 0 0 1 0 0 1 1 1 0 0 1 0 1 0 0 0 0 0 0 0 0 0 1 0 0 2 1 0 0 1\n",
      " 0 1 0 0 0 0 0 0 0 0 1 0 0 1 0 0 2 0 0 0 0 2 2 0 0 0 1 0 1 0 2 0 0 0 1 0 1\n",
      " 0 0 0 1 0 0 0 1 0 2 0 0 1 0 0 0 0 0 1 0 0 0 2 1 0 0 1 0 0 0 2 0 0 0 1 0 0\n",
      " 2 0 0 0 0 0 1 0 0 0 0 0 0 0 0 1 0 0 1 1 0 1 0 0 0 1 1 0 2 0 1 0 0 1 0 0 0\n",
      " 0 0 1 1 0 1 0 0 1 0 0 0 0 0 0 1 0 0 1 1 0 1 1 0 0 0 1 1 0 0 1 0 0 0 0 0 0\n",
      " 0 0 0 0 0 1 0 0 1 0 0 1 0 0 1 0 0 0 1 1 0 0 0 0 0 1 1 0 0 0 0 0 0 0 1 0 0\n",
      " 1 0 0 0 0 0 0 0 0 0 0 0 0 0 0 0 1 0 0 1 0 0 0 0 0 0 0 0 0 0 1 0 0 0 0 1 0\n",
      " 0 0 0 1 0 1 0 0 0 0 1 0 1 0 0 2 1 0 0 0 1 1 0 2 0 0 1 1 0 1 0 1 0 0 0 0 0\n",
      " 0 1 1 0 0 0 1 0 1 0 1 0 0 0 2 0 0 1 0 0 0 1 0 0 1 2 1 0 0 2 0 1 1 0 0 0 0\n",
      " 0 0 1 1 0 1 1 0 0 0 0 0 0 0 1 2 0 0 0 1 2 1 0 1 1 2 0 0 0 1 0 0 0 1 0 2 0\n",
      " 1 1 1 1 0 0 0 1 1 0 0 0 1 0 0 1 0 2 0 0 0 0 0 1 0 1 0 0 1 0 1 1 0 0 0 1 1\n",
      " 0 0 0 0 1 0 0 0 1 0 0 1 1 0 0 0 0 2 0 0 1 0 1 0 1 0 0 0 0 0 0 0 0 1 2 0 1\n",
      " 0 2 0 0 0 0 0 0 1 0 0 2 0 0 0 0 0 0 0 1 1 0 0 0 0 0 0 0 0 0 0 0 0 1 1 1 0\n",
      " 0 0 1 0 0 0 0 0 0 0 0 0 0 0 0 0 0 0 0 1 0 1 0 0 0 0 0 0 0 0 0 0 0 0 0 0 0\n",
      " 0 0 1 0 0 0 1 0 0 0 0 0 0 0 0 0 0 0 0 1 1 0 0 0 0 0 1 1 0 1 0 0 1 0 1 0 0\n",
      " 0 0 0 0 0 0 1 0 0 0 0 0 1 0 0 1 0 0 1 1 0 0 0 0 0 0 1]\n"
     ]
    }
   ],
   "source": [
    "print (\"cluser membership:\\n{}\".format(kmeans.labels_))"
   ]
  },
  {
   "cell_type": "code",
   "execution_count": 25,
   "metadata": {},
   "outputs": [
    {
     "name": "stdout",
     "output_type": "stream",
     "text": [
      "[0 2 2 2 1 1 1 2 0 0 2 2 1 0 1 1 1 0 2 2 1 2 1 0 2 1 1 0 0 1 0 0 1 0 2 1 2\n",
      " 2 2 1 1 2 0 2 2 1 0 0 0 0 2 1 1 1 0 1 2 2 0 0 2 1 1 2 2 1 0 1 0 2 2 2 1 0\n",
      " 0 2 1 1 0 2 0 2 2 1 0 0 0 0 2 0 1 0 0 2 2 1 1 0 1 0]\n"
     ]
    }
   ],
   "source": [
    "print(kmeans.predict(X))"
   ]
  },
  {
   "cell_type": "code",
   "execution_count": 105,
   "metadata": {
    "scrolled": true
   },
   "outputs": [
    {
     "ename": "IndexError",
     "evalue": "boolean index did not match indexed array along dimension 0; dimension is 100 but corresponding boolean dimension is 693",
     "output_type": "error",
     "traceback": [
      "\u001b[0;31m---------------------------------------------------------------------------\u001b[0m",
      "\u001b[0;31mIndexError\u001b[0m                                Traceback (most recent call last)",
      "\u001b[0;32m<ipython-input-105-39b4f763becc>\u001b[0m in \u001b[0;36m<module>\u001b[0;34m()\u001b[0m\n\u001b[0;32m----> 1\u001b[0;31m \u001b[0mmglearn\u001b[0m\u001b[0;34m.\u001b[0m\u001b[0mdiscrete_scatter\u001b[0m\u001b[0;34m(\u001b[0m\u001b[0mX\u001b[0m\u001b[0;34m[\u001b[0m\u001b[0;34m:\u001b[0m\u001b[0;34m,\u001b[0m\u001b[0;36m0\u001b[0m\u001b[0;34m]\u001b[0m\u001b[0;34m,\u001b[0m\u001b[0mX\u001b[0m\u001b[0;34m[\u001b[0m\u001b[0;34m:\u001b[0m\u001b[0;34m,\u001b[0m\u001b[0;34m]\u001b[0m\u001b[0;34m,\u001b[0m \u001b[0mkmeans\u001b[0m\u001b[0;34m.\u001b[0m\u001b[0mlabels_\u001b[0m\u001b[0;34m,\u001b[0m\u001b[0mmarkers\u001b[0m\u001b[0;34m=\u001b[0m\u001b[0;34m'o'\u001b[0m\u001b[0;34m)\u001b[0m\u001b[0;34m\u001b[0m\u001b[0m\n\u001b[0m\u001b[1;32m      2\u001b[0m mglearn.discrete_scatter(\n\u001b[1;32m      3\u001b[0m     \u001b[0mkmeans\u001b[0m\u001b[0;34m.\u001b[0m\u001b[0mcluster_centers_\u001b[0m\u001b[0;34m[\u001b[0m\u001b[0;34m:\u001b[0m\u001b[0;34m,\u001b[0m \u001b[0;36m0\u001b[0m\u001b[0;34m]\u001b[0m\u001b[0;34m,\u001b[0m \u001b[0mkmeans\u001b[0m\u001b[0;34m.\u001b[0m\u001b[0mcluster_centers_\u001b[0m\u001b[0;34m[\u001b[0m\u001b[0;34m:\u001b[0m\u001b[0;34m,\u001b[0m \u001b[0;36m1\u001b[0m\u001b[0;34m]\u001b[0m\u001b[0;34m,\u001b[0m \u001b[0;34m[\u001b[0m\u001b[0;36m0\u001b[0m\u001b[0;34m,\u001b[0m \u001b[0;36m1\u001b[0m\u001b[0;34m,\u001b[0m \u001b[0;36m2\u001b[0m\u001b[0;34m]\u001b[0m\u001b[0;34m,\u001b[0m\u001b[0;34m\u001b[0m\u001b[0m\n\u001b[1;32m      4\u001b[0m     markers='^', markeredgewidth=2)\n",
      "\u001b[0;32m/anaconda3/lib/python3.6/site-packages/mglearn/plot_helpers.py\u001b[0m in \u001b[0;36mdiscrete_scatter\u001b[0;34m(x1, x2, y, markers, s, ax, labels, padding, alpha, c, markeredgewidth)\u001b[0m\n\u001b[1;32m     93\u001b[0m             \u001b[0mmarkeredgecolor\u001b[0m \u001b[0;34m=\u001b[0m \u001b[0;34m\"black\"\u001b[0m\u001b[0;34m\u001b[0m\u001b[0m\n\u001b[1;32m     94\u001b[0m \u001b[0;34m\u001b[0m\u001b[0m\n\u001b[0;32m---> 95\u001b[0;31m         lines.append(ax.plot(x1[mask], x2[mask], markers[i], markersize=s,\n\u001b[0m\u001b[1;32m     96\u001b[0m                              \u001b[0mlabel\u001b[0m\u001b[0;34m=\u001b[0m\u001b[0mlabels\u001b[0m\u001b[0;34m[\u001b[0m\u001b[0mi\u001b[0m\u001b[0;34m]\u001b[0m\u001b[0;34m,\u001b[0m \u001b[0malpha\u001b[0m\u001b[0;34m=\u001b[0m\u001b[0malpha\u001b[0m\u001b[0;34m,\u001b[0m \u001b[0mc\u001b[0m\u001b[0;34m=\u001b[0m\u001b[0mcolor\u001b[0m\u001b[0;34m,\u001b[0m\u001b[0;34m\u001b[0m\u001b[0m\n\u001b[1;32m     97\u001b[0m                              \u001b[0mmarkeredgewidth\u001b[0m\u001b[0;34m=\u001b[0m\u001b[0mmarkeredgewidth\u001b[0m\u001b[0;34m,\u001b[0m\u001b[0;34m\u001b[0m\u001b[0m\n",
      "\u001b[0;31mIndexError\u001b[0m: boolean index did not match indexed array along dimension 0; dimension is 100 but corresponding boolean dimension is 693"
     ]
    },
    {
     "data": {
      "image/png": "[encoded data removed]",
      "text/plain": [
       "<Figure size 432x288 with 1 Axes>"
      ]
     },
     "metadata": {},
     "output_type": "display_data"
    }
   ],
   "source": [
    "mglearn.discrete_scatter(X[:,0],X[:,], kmeans.labels_,markers='o')\n",
    "mglearn.discrete_scatter(\n",
    "    kmeans.cluster_centers_[:, 0], kmeans.cluster_centers_[:, 1], [0, 1, 2],\n",
    "    markers='^', markeredgewidth=2)\n"
   ]
  },
  {
   "cell_type": "code",
   "execution_count": 32,
   "metadata": {},
   "outputs": [
    {
     "data": {
      "text/plain": [
       "STATEFIP    int64\n",
       "CITY        int64\n",
       "SEX         int64\n",
       "AGE         int64\n",
       "INCTOT      int64\n",
       "dtype: object"
      ]
     },
     "execution_count": 32,
     "metadata": {},
     "output_type": "execute_result"
    }
   ],
   "source": [
    "df.dtypes\n",
    "\n",
    "\n"
   ]
  },
  {
   "cell_type": "code",
   "execution_count": 64,
   "metadata": {
    "collapsed": true
   },
   "outputs": [
    {
     "data": {
      "text/plain": [
       "<matplotlib.collections.PathCollection at 0x1c10f3ee10>"
      ]
     },
     "execution_count": 64,
     "metadata": {},
     "output_type": "execute_result"
    },
    {
     "data": {
      "image/png": "[encoded data removed]",
      "text/plain": [
       "<Figure size 432x288 with 1 Axes>"
      ]
     },
     "metadata": {},
     "output_type": "display_data"
    }
   ],
   "source": [
    "#plt.plot(df.AGE, df.INCTOT)\n",
    "plt.scatter('AGE','INCTOT', data=df2, s=1)\n",
    "#plt.scatter(df2.AGE, df2.INCTOT, s=1 )"
   ]
  },
  {
   "cell_type": "code",
   "execution_count": 93,
   "metadata": {
    "collapsed": true
   },
   "outputs": [
    {
     "data": {
      "text/plain": [
       "<matplotlib.collections.PathCollection at 0x1c18459e10>"
      ]
     },
     "execution_count": 93,
     "metadata": {},
     "output_type": "execute_result"
    },
    {
     "data": {
      "image/png": "[encoded data removed]",
      "text/plain": [
       "<Figure size 432x288 with 1 Axes>"
      ]
     },
     "metadata": {},
     "output_type": "display_data"
    }
   ],
   "source": [
    "df3 = df2.copy()\n",
    "del df3['CITY'], df3['STATEFIP'],df3['SEX'] \n",
    "df3\n",
    "plt.scatter('AGE','INCTOT',data=df3)\n"
   ]
  },
  {
   "cell_type": "code",
   "execution_count": 107,
   "metadata": {},
   "outputs": [
    {
     "data": {
      "text/plain": [
       "KMeans(algorithm='auto', copy_x=True, init='k-means++', max_iter=300,\n",
       "    n_clusters=3, n_init=10, n_jobs=1, precompute_distances='auto',\n",
       "    random_state=None, tol=0.0001, verbose=0)"
      ]
     },
     "execution_count": 107,
     "metadata": {},
     "output_type": "execute_result"
    }
   ],
   "source": [
    "import numpy as np\n",
    "\n",
    "a1 = df3.values\n",
    "\n",
    "kmeans.fit(a1)"
   ]
  },
  {
   "cell_type": "code",
   "execution_count": 108,
   "metadata": {},
   "outputs": [
    {
     "name": "stdout",
     "output_type": "stream",
     "text": [
      "cluser membership:\n",
      "[0 2 0 1 1 1 1 0 1 1 2 0 1 1 1 1 0 1 1 0 1 1 1 1 2 1 1 0 1 1 1 1 0 1 1 0 1\n",
      " 0 1 1 1 1 1 0 1 1 1 1 1 1 1 1 1 1 1 0 1 2 1 1 1 0 0 1 1 1 1 1 1 1 0 1 0 0\n",
      " 1 1 1 1 1 1 0 1 1 1 0 1 1 0 1 1 1 0 0 1 1 0 0 1 1 1 1 1 1 1 2 1 0 1 0 0 1\n",
      " 1 1 0 1 1 1 1 1 1 0 1 1 0 0 0 1 1 0 1 0 1 0 1 1 1 1 1 1 1 0 1 1 2 0 1 1 0\n",
      " 1 0 1 1 1 1 1 1 1 1 0 1 1 0 1 1 2 1 1 1 1 2 2 1 1 1 0 1 0 1 2 1 1 1 0 1 0\n",
      " 1 0 1 0 1 1 1 0 1 2 1 1 0 1 1 1 1 1 0 1 1 1 2 0 1 1 0 1 1 1 2 1 1 1 0 1 1\n",
      " 2 1 1 1 1 1 0 1 1 1 1 1 1 1 1 0 1 0 0 0 1 0 0 1 1 0 0 1 2 1 0 1 1 0 1 1 1\n",
      " 1 1 0 0 1 0 1 1 0 1 1 1 1 1 1 0 1 1 0 0 1 0 0 1 1 1 0 0 1 1 0 1 1 1 1 1 1\n",
      " 1 1 1 1 1 0 1 1 0 1 1 0 1 1 0 1 1 1 0 0 1 1 1 1 1 0 0 1 1 1 1 1 1 1 0 1 1\n",
      " 0 1 1 1 1 1 1 1 1 1 1 1 1 1 1 1 0 1 1 0 1 1 1 1 1 1 1 1 1 1 0 1 1 1 1 0 1\n",
      " 1 1 1 0 1 0 1 1 1 1 0 1 0 1 1 2 0 1 1 1 0 0 1 2 1 1 0 0 1 0 1 0 1 1 1 1 1\n",
      " 1 0 0 1 1 1 0 1 0 1 0 1 1 1 2 1 1 0 1 1 1 0 1 1 0 2 0 1 1 2 1 0 0 1 1 1 1\n",
      " 1 1 0 0 1 0 0 1 1 1 1 1 1 1 0 2 1 1 1 0 2 0 1 0 0 2 1 1 1 0 1 1 1 0 1 2 1\n",
      " 0 0 0 0 1 1 1 0 0 1 1 1 0 1 1 0 1 2 1 1 1 1 1 0 1 2 1 1 0 1 0 0 1 1 1 0 0\n",
      " 1 1 1 1 0 1 1 1 0 1 1 0 0 1 1 1 1 2 1 1 0 1 0 1 0 1 1 1 1 1 1 1 1 0 2 1 0\n",
      " 1 2 1 1 1 1 0 1 0 1 1 2 1 1 1 1 1 1 1 0 0 1 1 1 1 1 1 1 1 1 1 1 1 0 0 0 1\n",
      " 1 1 0 1 1 1 1 1 1 1 1 1 1 1 1 1 1 1 1 0 1 0 1 1 1 1 1 1 1 1 1 1 1 1 1 1 1\n",
      " 1 1 0 1 1 1 0 1 1 1 1 1 1 1 1 1 1 1 1 0 0 1 1 1 1 0 0 0 1 0 1 1 0 1 0 1 1\n",
      " 1 1 1 1 1 1 0 1 1 1 1 1 0 1 1 0 1 1 0 0 1 1 1 1 1 1 0]\n"
     ]
    }
   ],
   "source": [
    "print (\"cluser membership:\\n{}\".format(kmeans.labels_))"
   ]
  },
  {
   "cell_type": "code",
   "execution_count": 110,
   "metadata": {},
   "outputs": [
    {
     "data": {
      "text/plain": [
       "[<matplotlib.lines.Line2D at 0x1c186d1160>,\n",
       " <matplotlib.lines.Line2D at 0x1c186d1898>,\n",
       " <matplotlib.lines.Line2D at 0x1c186d1cc0>]"
      ]
     },
     "execution_count": 110,
     "metadata": {},
     "output_type": "execute_result"
    },
    {
     "data": {
      "image/png": "[encoded data removed]",
      "text/plain": [
       "<Figure size 432x288 with 1 Axes>"
      ]
     },
     "metadata": {},
     "output_type": "display_data"
    }
   ],
   "source": [
    "mglearn.discrete_scatter(a1[:,0],a1[:,], kmeans.labels_,markers='o')\n",
    "mglearn.discrete_scatter(\n",
    "    kmeans.cluster_centers_[:, 0], kmeans.cluster_centers_[:, 1], [0, 1, 2],\n",
    "    markers='^', markeredgewidth=2)"
   ]
  },
  {
   "cell_type": "code",
   "execution_count": null,
   "metadata": {},
   "outputs": [],
   "source": []
  }
 ],
 "metadata": {
  "kernelspec": {
   "display_name": "Python 3",
   "language": "python",
   "name": "python3"
  },
  "language_info": {
   "codemirror_mode": {
    "name": "ipython",
    "version": 3
   },
   "file_extension": ".py",
   "mimetype": "text/x-python",
   "name": "python",
   "nbconvert_exporter": "python",
   "pygments_lexer": "ipython3",
   "version": "3.6.5"
  }
 },
 "nbformat": 4,
 "nbformat_minor": 2
}
